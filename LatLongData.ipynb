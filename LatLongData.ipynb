{
 "cells": [
  {
   "cell_type": "markdown",
   "metadata": {},
   "source": [
    "# Getting lat and long data"
   ]
  },
  {
   "cell_type": "code",
   "execution_count": 4,
   "metadata": {
    "collapsed": true
   },
   "outputs": [],
   "source": [
    "import pandas as pd\n",
    "import os"
   ]
  },
  {
   "cell_type": "code",
   "execution_count": 36,
   "metadata": {
    "collapsed": true
   },
   "outputs": [],
   "source": [
    "from selenium import webdriver\n",
    "from selenium.webdriver.support.ui import WebDriverWait, Select"
   ]
  },
  {
   "cell_type": "code",
   "execution_count": 21,
   "metadata": {
    "collapsed": true
   },
   "outputs": [],
   "source": [
    "chromedriver = \"/Users/nathancheever/Downloads/chromedriver\"  # You'll need to download one for your machine\n",
    "os.environ[\"webdriver.chrome.driver\"] = chromedriver\n",
    "options = webdriver.ChromeOptions()"
   ]
  },
  {
   "cell_type": "code",
   "execution_count": 12,
   "metadata": {
    "collapsed": true
   },
   "outputs": [],
   "source": [
    "centroids = pd.read_csv('centroids.txt', sep='|', names=['x', 'y', 'id'])"
   ]
  },
  {
   "cell_type": "code",
   "execution_count": 28,
   "metadata": {},
   "outputs": [
    {
     "data": {
      "text/plain": [
       "1520334.1126511998"
      ]
     },
     "execution_count": 28,
     "metadata": {},
     "output_type": "execute_result"
    }
   ],
   "source": [
    "centroids.loc[0, 'x']"
   ]
  },
  {
   "cell_type": "code",
   "execution_count": 22,
   "metadata": {
    "collapsed": true
   },
   "outputs": [],
   "source": [
    "def init_driver():\n",
    "    driver = webdriver.Chrome(chromedriver)\n",
    "    driver.wait = WebDriverWait(driver, 2)\n",
    "    return driver"
   ]
  },
  {
   "cell_type": "code",
   "execution_count": 23,
   "metadata": {
    "collapsed": true
   },
   "outputs": [],
   "source": [
    "link = \"http://www.earthpoint.us/StatePlane.aspx\""
   ]
  },
  {
   "cell_type": "markdown",
   "metadata": {},
   "source": [
    "Get the page"
   ]
  },
  {
   "cell_type": "code",
   "execution_count": 44,
   "metadata": {
    "collapsed": true
   },
   "outputs": [],
   "source": [
    "# start up a browser!\n",
    "browser = init_driver()"
   ]
  },
  {
   "cell_type": "code",
   "execution_count": 45,
   "metadata": {
    "collapsed": true
   },
   "outputs": [],
   "source": [
    "browser.get(link)"
   ]
  },
  {
   "cell_type": "code",
   "execution_count": 46,
   "metadata": {
    "collapsed": true
   },
   "outputs": [],
   "source": [
    "# zone\n",
    "zone_button = Select(browser.find_element_by_id(\"ContentPlaceHolder1_dlZone\"))"
   ]
  },
  {
   "cell_type": "code",
   "execution_count": 47,
   "metadata": {
    "collapsed": true
   },
   "outputs": [],
   "source": [
    "zone_button.select_by_value(\"4302\")"
   ]
  },
  {
   "cell_type": "code",
   "execution_count": 48,
   "metadata": {
    "collapsed": true
   },
   "outputs": [],
   "source": [
    "# select the US survey feet\n",
    "button = browser.find_element_by_id(\"ContentPlaceHolder1_rbUnitOfMeasure_1\")\n",
    "button.click()"
   ]
  },
  {
   "cell_type": "code",
   "execution_count": 50,
   "metadata": {
    "collapsed": true
   },
   "outputs": [],
   "source": [
    "x_spot = browser.find_element_by_id(\"ContentPlaceHolder1_X\")\n",
    "y_spot = browser.find_element_by_id(\"ContentPlaceHolder1_Y\")"
   ]
  },
  {
   "cell_type": "code",
   "execution_count": 51,
   "metadata": {
    "collapsed": true
   },
   "outputs": [],
   "source": [
    "# Test run with the first values in the df\n",
    "x_spot.send_keys(str(centroids.loc[0, 'x']))\n",
    "y_spot.send_keys(str(centroids.loc[0, 'y']))"
   ]
  },
  {
   "cell_type": "code",
   "execution_count": 52,
   "metadata": {
    "collapsed": true
   },
   "outputs": [],
   "source": [
    "# calc button\n",
    "calc_button = browser.find_element_by_id(\"ContentPlaceHolder1_btnXYCalc_Button1\")"
   ]
  },
  {
   "cell_type": "code",
   "execution_count": 53,
   "metadata": {
    "collapsed": true
   },
   "outputs": [],
   "source": [
    "calc_button.click()"
   ]
  },
  {
   "cell_type": "code",
   "execution_count": 54,
   "metadata": {
    "collapsed": true
   },
   "outputs": [],
   "source": [
    "stuff = browser.find_element_by_xpath('//*[@id=\"ContentPlaceHolder1_UpdatePanel4\"]/table/tbody/tr[4]/td[2]')"
   ]
  },
  {
   "cell_type": "code",
   "execution_count": 55,
   "metadata": {},
   "outputs": [
    {
     "data": {
      "text/plain": [
       "'40.8157038°, -111.9338047°'"
      ]
     },
     "execution_count": 55,
     "metadata": {},
     "output_type": "execute_result"
    }
   ],
   "source": [
    "stuff.text"
   ]
  },
  {
   "cell_type": "code",
   "execution_count": 42,
   "metadata": {
    "collapsed": true
   },
   "outputs": [],
   "source": [
    "browser.quit()"
   ]
  },
  {
   "cell_type": "markdown",
   "metadata": {},
   "source": [
    "#### Going thru all the coordinates to get lat and long"
   ]
  },
  {
   "cell_type": "code",
   "execution_count": 57,
   "metadata": {
    "collapsed": true
   },
   "outputs": [],
   "source": [
    "import time"
   ]
  },
  {
   "cell_type": "code",
   "execution_count": null,
   "metadata": {
    "collapsed": true
   },
   "outputs": [],
   "source": [
    "output = []"
   ]
  },
  {
   "cell_type": "code",
   "execution_count": 73,
   "metadata": {
    "collapsed": true
   },
   "outputs": [],
   "source": [
    "browser = init_driver()\n",
    "browser.get(link)\n",
    "browser.maximize_window()\n",
    "zone_button = Select(browser.find_element_by_id(\"ContentPlaceHolder1_dlZone\"))\n",
    "zone_button.select_by_value(\"4302\")\n",
    "button = browser.find_element_by_id(\"ContentPlaceHolder1_rbUnitOfMeasure_1\")\n",
    "button.click()\n",
    "x_spot = browser.find_element_by_id(\"ContentPlaceHolder1_X\")\n",
    "y_spot = browser.find_element_by_id(\"ContentPlaceHolder1_Y\")\n",
    "calc_button = browser.find_element_by_id(\"ContentPlaceHolder1_btnXYCalc_Button1\")\n",
    "\n",
    "for _, row in centroids.iterrows():\n",
    "    x = str(row['x'])\n",
    "    y = str(row['y'])\n",
    "    if x in xes:  # This was used after we got about 100 in and it quit, see below\n",
    "        continue\n",
    "    id_ = row['id']\n",
    "    x_spot.clear()\n",
    "    y_spot.clear()\n",
    "    x_spot.send_keys(x)\n",
    "    y_spot.send_keys(y)\n",
    "    calc_button.click()\n",
    "    time.sleep(0.5)\n",
    "    stuff = browser.find_element_by_xpath('//*[@id=\"ContentPlaceHolder1_UpdatePanel4\"]/table/tbody/tr[4]/td[2]')\n",
    "    lat, long = stuff.text.split(',')\n",
    "    output.append((x, y, lat, long, id_))\n",
    "   \n",
    " \n",
    "browser.quit()"
   ]
  },
  {
   "cell_type": "code",
   "execution_count": 66,
   "metadata": {},
   "outputs": [
    {
     "data": {
      "text/plain": [
       "182"
      ]
     },
     "execution_count": 66,
     "metadata": {},
     "output_type": "execute_result"
    }
   ],
   "source": [
    "len(centroids)"
   ]
  },
  {
   "cell_type": "code",
   "execution_count": 74,
   "metadata": {},
   "outputs": [
    {
     "data": {
      "text/plain": [
       "182"
      ]
     },
     "execution_count": 74,
     "metadata": {},
     "output_type": "execute_result"
    }
   ],
   "source": [
    "len(output)"
   ]
  },
  {
   "cell_type": "code",
   "execution_count": 71,
   "metadata": {
    "collapsed": true
   },
   "outputs": [],
   "source": [
    "# Because of an unknown stall, we save out all the previously gathered x values so we don't have to cycle thru them agains\n",
    "xes = [i[0] for i in output]"
   ]
  },
  {
   "cell_type": "code",
   "execution_count": 80,
   "metadata": {
    "collapsed": true
   },
   "outputs": [],
   "source": [
    "output_df = pd.DataFrame(output, columns=['old_x', 'old_y', 'new_x', 'new_y', 'id'])"
   ]
  },
  {
   "cell_type": "code",
   "execution_count": 83,
   "metadata": {
    "collapsed": true
   },
   "outputs": [
    {
     "data": {
      "text/html": [
       "<div>\n",
       "<style>\n",
       "    .dataframe thead tr:only-child th {\n",
       "        text-align: right;\n",
       "    }\n",
       "\n",
       "    .dataframe thead th {\n",
       "        text-align: left;\n",
       "    }\n",
       "\n",
       "    .dataframe tbody tr th {\n",
       "        vertical-align: top;\n",
       "    }\n",
       "</style>\n",
       "<table border=\"1\" class=\"dataframe\">\n",
       "  <thead>\n",
       "    <tr style=\"text-align: right;\">\n",
       "      <th></th>\n",
       "      <th>old_x</th>\n",
       "      <th>old_y</th>\n",
       "      <th>new_x</th>\n",
       "      <th>new_y</th>\n",
       "      <th>id</th>\n",
       "    </tr>\n",
       "  </thead>\n",
       "  <tbody>\n",
       "    <tr>\n",
       "      <th>0</th>\n",
       "      <td>1520334.11265</td>\n",
       "      <td>7466172.76139</td>\n",
       "      <td>40.8157038°</td>\n",
       "      <td>-111.9338047°</td>\n",
       "      <td>2.0</td>\n",
       "    </tr>\n",
       "    <tr>\n",
       "      <th>1</th>\n",
       "      <td>1520312.8879</td>\n",
       "      <td>7461851.08597</td>\n",
       "      <td>40.8038425°</td>\n",
       "      <td>-111.9338057°</td>\n",
       "      <td>3.0</td>\n",
       "    </tr>\n",
       "    <tr>\n",
       "      <th>2</th>\n",
       "      <td>1522965.00793</td>\n",
       "      <td>7461864.26871</td>\n",
       "      <td>40.8039136°</td>\n",
       "      <td>-111.9242268°</td>\n",
       "      <td>4.0</td>\n",
       "    </tr>\n",
       "    <tr>\n",
       "      <th>3</th>\n",
       "      <td>1525331.2973</td>\n",
       "      <td>7461715.69219</td>\n",
       "      <td>40.8035363°</td>\n",
       "      <td>-111.9156776°</td>\n",
       "      <td>5.0</td>\n",
       "    </tr>\n",
       "    <tr>\n",
       "      <th>4</th>\n",
       "      <td>1517492.8405</td>\n",
       "      <td>7460296.40785</td>\n",
       "      <td>40.7995376°</td>\n",
       "      <td>-111.9439635°</td>\n",
       "      <td>6.0</td>\n",
       "    </tr>\n",
       "  </tbody>\n",
       "</table>\n",
       "</div>"
      ],
      "text/plain": [
       "           old_x          old_y        new_x           new_y   id\n",
       "0  1520334.11265  7466172.76139  40.8157038°   -111.9338047°  2.0\n",
       "1   1520312.8879  7461851.08597  40.8038425°   -111.9338057°  3.0\n",
       "2  1522965.00793  7461864.26871  40.8039136°   -111.9242268°  4.0\n",
       "3   1525331.2973  7461715.69219  40.8035363°   -111.9156776°  5.0\n",
       "4   1517492.8405  7460296.40785  40.7995376°   -111.9439635°  6.0"
      ]
     },
     "execution_count": 83,
     "metadata": {},
     "output_type": "execute_result"
    }
   ],
   "source": [
    "output_df.head()"
   ]
  },
  {
   "cell_type": "code",
   "execution_count": 82,
   "metadata": {
    "collapsed": true
   },
   "outputs": [],
   "source": [
    "# Save it out to a Txt file\n",
    "output_df.to_csv('lat_long_centroids.txt', sep='|', index=False)"
   ]
  },
  {
   "cell_type": "code",
   "execution_count": null,
   "metadata": {
    "collapsed": true
   },
   "outputs": [],
   "source": []
  }
 ],
 "metadata": {
  "kernelspec": {
   "display_name": "Python 3",
   "language": "python",
   "name": "python3"
  },
  "language_info": {
   "codemirror_mode": {
    "name": "ipython",
    "version": 3
   },
   "file_extension": ".py",
   "mimetype": "text/x-python",
   "name": "python",
   "nbconvert_exporter": "python",
   "pygments_lexer": "ipython3",
   "version": "3.6.0"
  }
 },
 "nbformat": 4,
 "nbformat_minor": 2
}
