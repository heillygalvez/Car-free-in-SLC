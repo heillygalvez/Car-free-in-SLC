{
 "cells": [
  {
   "cell_type": "markdown",
   "metadata": {
    "collapsed": true
   },
   "source": [
    "## Carfree Living in SLC (Visualization)"
   ]
  },
  {
   "cell_type": "markdown",
   "metadata": {},
   "source": [
    "Using a geojson for the plats (city blocks) and a csv for the distances (both data sets have plat identifiers in common), I'm trying to make a choropleth of Salt Lake City according to each block's distance tot the nearest train station."
   ]
  },
  {
   "cell_type": "code",
   "execution_count": 18,
   "metadata": {
    "collapsed": true
   },
   "outputs": [],
   "source": [
    "import matplotlib.pyplot as plt\n",
    "import pandas as pd\n",
    "%matplotlib inline\n",
    "import geopandas as gpd\n",
    "plats = gpd.read_file('Atlas_Plat_Index.geojson')\n",
    "stations = gpd.read_file('Light Rail Stations in Utah.geojson')\n",
    "#This \"plats\" is a geodataframe"
   ]
  },
  {
   "cell_type": "code",
   "execution_count": 19,
   "metadata": {
    "scrolled": true
   },
   "outputs": [
    {
     "data": {
      "text/html": [
       "<div>\n",
       "<style>\n",
       "    .dataframe thead tr:only-child th {\n",
       "        text-align: right;\n",
       "    }\n",
       "\n",
       "    .dataframe thead th {\n",
       "        text-align: left;\n",
       "    }\n",
       "\n",
       "    .dataframe tbody tr th {\n",
       "        vertical-align: top;\n",
       "    }\n",
       "</style>\n",
       "<table border=\"1\" class=\"dataframe\">\n",
       "  <thead>\n",
       "    <tr style=\"text-align: right;\">\n",
       "      <th></th>\n",
       "      <th>OBJECTID</th>\n",
       "      <th>PLATNAME</th>\n",
       "      <th>Shape_Leng</th>\n",
       "      <th>Shape_Area</th>\n",
       "      <th>geometry</th>\n",
       "    </tr>\n",
       "  </thead>\n",
       "  <tbody>\n",
       "    <tr>\n",
       "      <th>172</th>\n",
       "      <td>173</td>\n",
       "      <td>Plat 69</td>\n",
       "      <td>4348.786338</td>\n",
       "      <td>9.501281e+05</td>\n",
       "      <td>POLYGON ((1524891.067568939 7433913.897039089,...</td>\n",
       "    </tr>\n",
       "    <tr>\n",
       "      <th>173</th>\n",
       "      <td>174</td>\n",
       "      <td>Block 2</td>\n",
       "      <td>11192.549480</td>\n",
       "      <td>7.818712e+06</td>\n",
       "      <td>POLYGON ((1523729.301847629 7436205.913780926,...</td>\n",
       "    </tr>\n",
       "    <tr>\n",
       "      <th>174</th>\n",
       "      <td>175</td>\n",
       "      <td>Plat 29</td>\n",
       "      <td>7888.950526</td>\n",
       "      <td>3.946270e+06</td>\n",
       "      <td>POLYGON ((1520665.757449167 7447938.526472671,...</td>\n",
       "    </tr>\n",
       "    <tr>\n",
       "      <th>175</th>\n",
       "      <td>176</td>\n",
       "      <td>Plat 31</td>\n",
       "      <td>8025.079790</td>\n",
       "      <td>4.102729e+06</td>\n",
       "      <td>POLYGON ((1521433.348761903 7446892.001006464,...</td>\n",
       "    </tr>\n",
       "    <tr>\n",
       "      <th>176</th>\n",
       "      <td>177</td>\n",
       "      <td>Plat 63</td>\n",
       "      <td>4291.315852</td>\n",
       "      <td>8.529496e+05</td>\n",
       "      <td>POLYGON ((1520666.052724176 7447934.645246821,...</td>\n",
       "    </tr>\n",
       "  </tbody>\n",
       "</table>\n",
       "</div>"
      ],
      "text/plain": [
       "     OBJECTID PLATNAME    Shape_Leng    Shape_Area  \\\n",
       "172       173  Plat 69   4348.786338  9.501281e+05   \n",
       "173       174  Block 2  11192.549480  7.818712e+06   \n",
       "174       175  Plat 29   7888.950526  3.946270e+06   \n",
       "175       176  Plat 31   8025.079790  4.102729e+06   \n",
       "176       177  Plat 63   4291.315852  8.529496e+05   \n",
       "\n",
       "                                              geometry  \n",
       "172  POLYGON ((1524891.067568939 7433913.897039089,...  \n",
       "173  POLYGON ((1523729.301847629 7436205.913780926,...  \n",
       "174  POLYGON ((1520665.757449167 7447938.526472671,...  \n",
       "175  POLYGON ((1521433.348761903 7446892.001006464,...  \n",
       "176  POLYGON ((1520666.052724176 7447934.645246821,...  "
      ]
     },
     "execution_count": 19,
     "metadata": {},
     "output_type": "execute_result"
    }
   ],
   "source": [
    "#I'm dropping all these columns because they're useless, really\n",
    "plats.drop(['PLAT','DOWNLOAD','LINK','CP_URL'],inplace=True,axis=1,errors='ignore')\n",
    "plats = plats.sort_values('OBJECTID')\n",
    "plats = plats.reset_index(drop=True)\n",
    "plats.tail()"
   ]
  },
  {
   "cell_type": "code",
   "execution_count": 20,
   "metadata": {},
   "outputs": [
    {
     "data": {
      "text/plain": [
       "identifier      int64\n",
       " minutes      float64\n",
       "dtype: object"
      ]
     },
     "execution_count": 20,
     "metadata": {},
     "output_type": "execute_result"
    }
   ],
   "source": [
    "#\"data\" is just a panda df and I should be able to add the 'minutes' column to plats\n",
    "data = pd.read_csv('plat_distances.csv')\n",
    "data.dtypes"
   ]
  },
  {
   "cell_type": "markdown",
   "metadata": {},
   "source": [
    "But it doesn't work, so I commented it out.\n",
    "CORRECTION: "
   ]
  },
  {
   "cell_type": "code",
   "execution_count": 21,
   "metadata": {
    "collapsed": true
   },
   "outputs": [],
   "source": [
    "plats['MINUTES'] = data[' minutes']"
   ]
  },
  {
   "cell_type": "code",
   "execution_count": 53,
   "metadata": {},
   "outputs": [
    {
     "data": {
      "text/plain": [
       "<matplotlib.text.Text at 0x21bec9d6748>"
      ]
     },
     "execution_count": 53,
     "metadata": {},
     "output_type": "execute_result"
    },
    {
     "data": {
      "image/png": "[encoded data removed]",
      "text/plain": [
       "<matplotlib.figure.Figure at 0x21becf24a20>"
      ]
     },
     "metadata": {},
     "output_type": "display_data"
    }
   ],
   "source": [
    "plats.plot(column='MINUTES', cmap= \"Blues\", legend = True)\n",
    "plt.axis('off')\n",
    "plt.title('Light Rail Stations in Salt Lake City\\nDistance from City Block to Nearest Station in Minutes')"
   ]
  },
  {
   "cell_type": "code",
   "execution_count": 10,
   "metadata": {
    "collapsed": true
   },
   "outputs": [],
   "source": [
    "#gpd.GeoDataFrame.to_file(ut, 'utah_counties.GeoJSON', driver=\"GeoJSON\", schema=None)"
   ]
  }
 ],
 "metadata": {
  "kernelspec": {
   "display_name": "Python 3",
   "language": "python",
   "name": "python3"
  },
  "language_info": {
   "codemirror_mode": {
    "name": "ipython",
    "version": 3
   },
   "file_extension": ".py",
   "mimetype": "text/x-python",
   "name": "python",
   "nbconvert_exporter": "python",
   "pygments_lexer": "ipython3",
   "version": "3.6.1"
  }
 },
 "nbformat": 4,
 "nbformat_minor": 2
}
